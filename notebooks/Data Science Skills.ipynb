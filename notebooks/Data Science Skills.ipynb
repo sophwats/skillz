{
 "cells": [
  {
   "cell_type": "code",
   "execution_count": 1,
   "metadata": {},
   "outputs": [],
   "source": [
    "import pandas as pd\n",
    "import re"
   ]
  },
  {
   "cell_type": "code",
   "execution_count": 2,
   "metadata": {},
   "outputs": [],
   "source": [
    "df = pd.read_csv('~/data/raw/indeed_job_dataset.csv')"
   ]
  },
  {
   "cell_type": "code",
   "execution_count": 3,
   "metadata": {},
   "outputs": [
    {
     "data": {
      "text/plain": [
       "(5715, 43)"
      ]
     },
     "execution_count": 3,
     "metadata": {},
     "output_type": "execute_result"
    }
   ],
   "source": [
    "df.shape"
   ]
  },
  {
   "cell_type": "code",
   "execution_count": 4,
   "metadata": {},
   "outputs": [
    {
     "data": {
      "text/plain": [
       "Index(['Unnamed: 0', 'Job_Title', 'Link', 'Queried_Salary', 'Job_Type',\n",
       "       'Skill', 'No_of_Skills', 'Company', 'No_of_Reviews', 'No_of_Stars',\n",
       "       'Date_Since_Posted', 'Description', 'Location', 'Company_Revenue',\n",
       "       'Company_Employees', 'Company_Industry', 'python', 'sql',\n",
       "       'machine learning', 'r', 'hadoop', 'tableau', 'sas', 'spark', 'java',\n",
       "       'Others', 'CA', 'NY', 'VA', 'TX', 'MA', 'IL', 'WA', 'MD', 'DC', 'NC',\n",
       "       'Other_states', 'Consulting and Business Services',\n",
       "       'Internet and Software', 'Banks and Financial Services', 'Health Care',\n",
       "       'Insurance', 'Other_industries'],\n",
       "      dtype='object')"
      ]
     },
     "execution_count": 4,
     "metadata": {},
     "output_type": "execute_result"
    }
   ],
   "source": [
    "df.columns"
   ]
  },
  {
   "cell_type": "code",
   "execution_count": 5,
   "metadata": {},
   "outputs": [],
   "source": [
    "skills = pd.DataFrame(df, columns=['Job_Title','Skill'])"
   ]
  },
  {
   "cell_type": "code",
   "execution_count": 6,
   "metadata": {},
   "outputs": [
    {
     "data": {
      "text/html": [
       "<div>\n",
       "<style scoped>\n",
       "    .dataframe tbody tr th:only-of-type {\n",
       "        vertical-align: middle;\n",
       "    }\n",
       "\n",
       "    .dataframe tbody tr th {\n",
       "        vertical-align: top;\n",
       "    }\n",
       "\n",
       "    .dataframe thead th {\n",
       "        text-align: right;\n",
       "    }\n",
       "</style>\n",
       "<table border=\"1\" class=\"dataframe\">\n",
       "  <thead>\n",
       "    <tr style=\"text-align: right;\">\n",
       "      <th></th>\n",
       "      <th>Job_Title</th>\n",
       "      <th>Skill</th>\n",
       "    </tr>\n",
       "  </thead>\n",
       "  <tbody>\n",
       "    <tr>\n",
       "      <th>3394</th>\n",
       "      <td>Health Care Data Analyst</td>\n",
       "      <td>['Data Mining', 'Machine Learning']</td>\n",
       "    </tr>\n",
       "    <tr>\n",
       "      <th>2137</th>\n",
       "      <td>MTS - Data Science / Machine Learning</td>\n",
       "      <td>['Java', 'Machine Learning', 'NoSQL', 'Project...</td>\n",
       "    </tr>\n",
       "    <tr>\n",
       "      <th>3195</th>\n",
       "      <td>Data Analyst - Automotive Retail</td>\n",
       "      <td>['Microsoft Powerpoint', 'SQL', 'Tableau']</td>\n",
       "    </tr>\n",
       "    <tr>\n",
       "      <th>5660</th>\n",
       "      <td>Platinion Senior Data Engineer</td>\n",
       "      <td>['TensorFlow', 'Machine Learning', 'Azure', 'S...</td>\n",
       "    </tr>\n",
       "    <tr>\n",
       "      <th>3726</th>\n",
       "      <td>Global Project Data Analyst (Data Analyst II)</td>\n",
       "      <td>['Time Management', 'SQL']</td>\n",
       "    </tr>\n",
       "    <tr>\n",
       "      <th>...</th>\n",
       "      <td>...</td>\n",
       "      <td>...</td>\n",
       "    </tr>\n",
       "    <tr>\n",
       "      <th>5617</th>\n",
       "      <td>Data Engineer</td>\n",
       "      <td>['Linux', 'Machine Learning', 'DynamoDB', 'SQL...</td>\n",
       "    </tr>\n",
       "    <tr>\n",
       "      <th>816</th>\n",
       "      <td>Data Scientist</td>\n",
       "      <td>['Microsoft SQL Server', 'Machine Learning', '...</td>\n",
       "    </tr>\n",
       "    <tr>\n",
       "      <th>3847</th>\n",
       "      <td>SQL Data Analyst- Applied Technology - Tax</td>\n",
       "      <td>['T-SQL', 'Microsoft SQL Server', 'Accounting'...</td>\n",
       "    </tr>\n",
       "    <tr>\n",
       "      <th>2789</th>\n",
       "      <td>Revenue Cycle Data Analyst (Baltimore)</td>\n",
       "      <td>['Microsoft Powerpoint', 'Visio', 'Data Analys...</td>\n",
       "    </tr>\n",
       "    <tr>\n",
       "      <th>2563</th>\n",
       "      <td>Data Analyst</td>\n",
       "      <td>NaN</td>\n",
       "    </tr>\n",
       "  </tbody>\n",
       "</table>\n",
       "<p>200 rows × 2 columns</p>\n",
       "</div>"
      ],
      "text/plain": [
       "                                          Job_Title  \\\n",
       "3394                       Health Care Data Analyst   \n",
       "2137          MTS - Data Science / Machine Learning   \n",
       "3195               Data Analyst - Automotive Retail   \n",
       "5660                 Platinion Senior Data Engineer   \n",
       "3726  Global Project Data Analyst (Data Analyst II)   \n",
       "...                                             ...   \n",
       "5617                                  Data Engineer   \n",
       "816                                  Data Scientist   \n",
       "3847     SQL Data Analyst- Applied Technology - Tax   \n",
       "2789         Revenue Cycle Data Analyst (Baltimore)   \n",
       "2563                                   Data Analyst   \n",
       "\n",
       "                                                  Skill  \n",
       "3394                ['Data Mining', 'Machine Learning']  \n",
       "2137  ['Java', 'Machine Learning', 'NoSQL', 'Project...  \n",
       "3195         ['Microsoft Powerpoint', 'SQL', 'Tableau']  \n",
       "5660  ['TensorFlow', 'Machine Learning', 'Azure', 'S...  \n",
       "3726                         ['Time Management', 'SQL']  \n",
       "...                                                 ...  \n",
       "5617  ['Linux', 'Machine Learning', 'DynamoDB', 'SQL...  \n",
       "816   ['Microsoft SQL Server', 'Machine Learning', '...  \n",
       "3847  ['T-SQL', 'Microsoft SQL Server', 'Accounting'...  \n",
       "2789  ['Microsoft Powerpoint', 'Visio', 'Data Analys...  \n",
       "2563                                                NaN  \n",
       "\n",
       "[200 rows x 2 columns]"
      ]
     },
     "execution_count": 6,
     "metadata": {},
     "output_type": "execute_result"
    }
   ],
   "source": [
    "skills.sample(200)"
   ]
  },
  {
   "cell_type": "code",
   "execution_count": 7,
   "metadata": {},
   "outputs": [
    {
     "data": {
      "text/plain": [
       "Data Scientist                                            715\n",
       "Data Analyst                                              405\n",
       "Data Engineer                                             391\n",
       "Senior Data Scientist                                     205\n",
       "Senior Data Engineer                                      136\n",
       "                                                         ... \n",
       "CCS Data Scientist                                          1\n",
       "Research Scientist (Machine Learning)                       1\n",
       "Data Analyst Specialist                                     1\n",
       "Data Scientist or Senior Data Scientist - Solaria Labs      1\n",
       "Data Scientist ∞ (Maplewood, MN)                            1\n",
       "Name: Job_Title, Length: 2314, dtype: int64"
      ]
     },
     "execution_count": 7,
     "metadata": {},
     "output_type": "execute_result"
    }
   ],
   "source": [
    "skills['Job_Title'].value_counts()"
   ]
  },
  {
   "cell_type": "code",
   "execution_count": 8,
   "metadata": {},
   "outputs": [
    {
     "data": {
      "text/plain": [
       "2314"
      ]
     },
     "execution_count": 8,
     "metadata": {},
     "output_type": "execute_result"
    }
   ],
   "source": [
    "skills['Job_Title'].nunique()"
   ]
  },
  {
   "cell_type": "code",
   "execution_count": 9,
   "metadata": {},
   "outputs": [],
   "source": [
    "ds_df = skills[skills['Job_Title'].str.contains('Data Scien', case = False)]"
   ]
  },
  {
   "cell_type": "code",
   "execution_count": 10,
   "metadata": {},
   "outputs": [
    {
     "data": {
      "text/html": [
       "<div>\n",
       "<style scoped>\n",
       "    .dataframe tbody tr th:only-of-type {\n",
       "        vertical-align: middle;\n",
       "    }\n",
       "\n",
       "    .dataframe tbody tr th {\n",
       "        vertical-align: top;\n",
       "    }\n",
       "\n",
       "    .dataframe thead th {\n",
       "        text-align: right;\n",
       "    }\n",
       "</style>\n",
       "<table border=\"1\" class=\"dataframe\">\n",
       "  <thead>\n",
       "    <tr style=\"text-align: right;\">\n",
       "      <th></th>\n",
       "      <th>Job_Title</th>\n",
       "      <th>Skill</th>\n",
       "    </tr>\n",
       "  </thead>\n",
       "  <tbody>\n",
       "    <tr>\n",
       "      <th>0</th>\n",
       "      <td>Data Scientist</td>\n",
       "      <td>['SAP', 'SQL']</td>\n",
       "    </tr>\n",
       "    <tr>\n",
       "      <th>1</th>\n",
       "      <td>Data Scientist</td>\n",
       "      <td>['Machine Learning', 'R', 'SAS', 'SQL', 'Python']</td>\n",
       "    </tr>\n",
       "    <tr>\n",
       "      <th>2</th>\n",
       "      <td>Data Scientist</td>\n",
       "      <td>['Data Mining', 'Data Management', 'R', 'SAS',...</td>\n",
       "    </tr>\n",
       "    <tr>\n",
       "      <th>3</th>\n",
       "      <td>Graduate Studies Program - Data Scientist</td>\n",
       "      <td>['Certified Internal Auditor']</td>\n",
       "    </tr>\n",
       "    <tr>\n",
       "      <th>4</th>\n",
       "      <td>Data Scientist I</td>\n",
       "      <td>['Statistical Software', 'Time Management', 'R...</td>\n",
       "    </tr>\n",
       "    <tr>\n",
       "      <th>...</th>\n",
       "      <td>...</td>\n",
       "      <td>...</td>\n",
       "    </tr>\n",
       "    <tr>\n",
       "      <th>4741</th>\n",
       "      <td>Data Engineer - Advanced Analytics and Data Sc...</td>\n",
       "      <td>['Natural Language Processing', 'R', 'SAS', 'P...</td>\n",
       "    </tr>\n",
       "    <tr>\n",
       "      <th>5108</th>\n",
       "      <td>Data Engineer (Data Science Focus)</td>\n",
       "      <td>['Linux', 'Machine Learning', 'Hadoop', 'R', '...</td>\n",
       "    </tr>\n",
       "    <tr>\n",
       "      <th>5380</th>\n",
       "      <td>Data Engineer, Data Science</td>\n",
       "      <td>NaN</td>\n",
       "    </tr>\n",
       "    <tr>\n",
       "      <th>5625</th>\n",
       "      <td>Data Science Data Engineer</td>\n",
       "      <td>['Spring', 'Hive', 'Hadoop', 'HBase', 'Big Dat...</td>\n",
       "    </tr>\n",
       "    <tr>\n",
       "      <th>5645</th>\n",
       "      <td>Data Engineer - Center of Data Science Team</td>\n",
       "      <td>['Linux', 'Microsoft SQL Server', 'R', 'SQL', ...</td>\n",
       "    </tr>\n",
       "  </tbody>\n",
       "</table>\n",
       "<p>2418 rows × 2 columns</p>\n",
       "</div>"
      ],
      "text/plain": [
       "                                              Job_Title  \\\n",
       "0                                        Data Scientist   \n",
       "1                                        Data Scientist   \n",
       "2                                        Data Scientist   \n",
       "3             Graduate Studies Program - Data Scientist   \n",
       "4                                      Data Scientist I   \n",
       "...                                                 ...   \n",
       "4741  Data Engineer - Advanced Analytics and Data Sc...   \n",
       "5108                 Data Engineer (Data Science Focus)   \n",
       "5380                        Data Engineer, Data Science   \n",
       "5625                         Data Science Data Engineer   \n",
       "5645        Data Engineer - Center of Data Science Team   \n",
       "\n",
       "                                                  Skill  \n",
       "0                                        ['SAP', 'SQL']  \n",
       "1     ['Machine Learning', 'R', 'SAS', 'SQL', 'Python']  \n",
       "2     ['Data Mining', 'Data Management', 'R', 'SAS',...  \n",
       "3                        ['Certified Internal Auditor']  \n",
       "4     ['Statistical Software', 'Time Management', 'R...  \n",
       "...                                                 ...  \n",
       "4741  ['Natural Language Processing', 'R', 'SAS', 'P...  \n",
       "5108  ['Linux', 'Machine Learning', 'Hadoop', 'R', '...  \n",
       "5380                                                NaN  \n",
       "5625  ['Spring', 'Hive', 'Hadoop', 'HBase', 'Big Dat...  \n",
       "5645  ['Linux', 'Microsoft SQL Server', 'R', 'SQL', ...  \n",
       "\n",
       "[2418 rows x 2 columns]"
      ]
     },
     "execution_count": 10,
     "metadata": {},
     "output_type": "execute_result"
    }
   ],
   "source": [
    "ds_df"
   ]
  },
  {
   "cell_type": "code",
   "execution_count": 11,
   "metadata": {},
   "outputs": [
    {
     "data": {
      "text/plain": [
       "[\"['Machine Learning'\", \" 'R'\", \" 'SAS'\", \" 'SQL'\", \" 'Python']\"]"
      ]
     },
     "execution_count": 11,
     "metadata": {},
     "output_type": "execute_result"
    }
   ],
   "source": [
    "ds_df['Skill'][1].split(\",\")"
   ]
  },
  {
   "cell_type": "code",
   "execution_count": 12,
   "metadata": {},
   "outputs": [
    {
     "data": {
      "text/plain": [
       "['Machine Learning', 'R', 'SAS', 'SQL', 'Python']"
      ]
     },
     "execution_count": 12,
     "metadata": {},
     "output_type": "execute_result"
    }
   ],
   "source": [
    "re.findall(r\"'([^']*)'\", ds_df['Skill'][1])"
   ]
  },
  {
   "cell_type": "code",
   "execution_count": 13,
   "metadata": {},
   "outputs": [],
   "source": [
    "ds_df = ds_df.dropna(0)"
   ]
  },
  {
   "cell_type": "code",
   "execution_count": 14,
   "metadata": {},
   "outputs": [],
   "source": [
    "skills_list = []\n",
    "for row in ds_df.index:\n",
    "    skills_list.extend(re.findall(r\"'([^']*)'\", ds_df['Skill'][row]))"
   ]
  },
  {
   "cell_type": "code",
   "execution_count": 15,
   "metadata": {},
   "outputs": [
    {
     "data": {
      "text/plain": [
       "20804"
      ]
     },
     "execution_count": 15,
     "metadata": {},
     "output_type": "execute_result"
    }
   ],
   "source": [
    "len(skills_list)"
   ]
  },
  {
   "cell_type": "code",
   "execution_count": 24,
   "metadata": {},
   "outputs": [
    {
     "data": {
      "text/plain": [
       "0"
      ]
     },
     "execution_count": 24,
     "metadata": {},
     "output_type": "execute_result"
    }
   ],
   "source": [
    "skills_list.count('Yaml')"
   ]
  },
  {
   "cell_type": "code",
   "execution_count": 17,
   "metadata": {},
   "outputs": [],
   "source": [
    "from collections import Counter"
   ]
  },
  {
   "cell_type": "code",
   "execution_count": 18,
   "metadata": {},
   "outputs": [
    {
     "data": {
      "text/plain": [
       "[('Python', 1844),\n",
       " ('Machine Learning', 1727),\n",
       " ('R', 1529),\n",
       " ('SQL', 1177),\n",
       " ('Hadoop', 808),\n",
       " ('Spark', 724),\n",
       " ('Data Mining', 719),\n",
       " ('Java', 643),\n",
       " ('SAS', 565),\n",
       " ('Tableau', 487),\n",
       " ('Natural Language Processing', 481),\n",
       " ('Hive', 440),\n",
       " ('AI', 406),\n",
       " ('Big Data', 405),\n",
       " ('C/C++', 382),\n",
       " ('TensorFlow', 376),\n",
       " ('MATLAB', 346),\n",
       " ('Scala', 327),\n",
       " ('AWS', 304),\n",
       " ('Linux', 220),\n",
       " ('Data Science', 213),\n",
       " ('NoSQL', 184),\n",
       " ('SPSS', 175),\n",
       " ('Azure', 172),\n",
       " ('Data Analysis', 166),\n",
       " ('Perl', 157),\n",
       " ('Scripting', 155),\n",
       " ('Git', 150),\n",
       " ('Pig', 150),\n",
       " ('TS/SCI Clearance', 143),\n",
       " ('Oracle', 143),\n",
       " ('Docker', 137),\n",
       " ('Image Processing', 135),\n",
       " ('Statisical Analysis', 135),\n",
       " ('Statistical Software', 122),\n",
       " ('JavaScript', 120),\n",
       " ('.Net', 120),\n",
       " ('Splunk', 117),\n",
       " ('Microsoft SQL Server', 109),\n",
       " ('C#', 108),\n",
       " ('Software Development', 105),\n",
       " ('Elasticsearch', 102),\n",
       " ('Design Experience', 97),\n",
       " ('HBase', 97),\n",
       " ('MySQL', 96),\n",
       " ('Project Management', 93),\n",
       " ('Kafka', 90),\n",
       " ('MongoDB', 81),\n",
       " ('Quantitative Analysis', 79),\n",
       " ('Google Cloud Platform', 79),\n",
       " ('OOP', 79),\n",
       " ('Shell Scripting', 78),\n",
       " ('Marketing', 75),\n",
       " ('Data Warehouse', 71),\n",
       " ('Microsoft Powerpoint', 71),\n",
       " ('Microsoft Office', 69),\n",
       " ('PHP', 66),\n",
       " ('Leadership Experience', 63),\n",
       " ('Cassandra', 63),\n",
       " ('PostgreSQL', 61),\n",
       " ('Ruby', 60),\n",
       " ('Solr', 57),\n",
       " ('Predictive Analytics', 56),\n",
       " ('S3', 52),\n",
       " ('Power BI', 51),\n",
       " ('Teradata', 49),\n",
       " ('Data Management', 48),\n",
       " ('Sentiment Analytics', 47),\n",
       " ('HTML5', 45),\n",
       " ('Excel', 44),\n",
       " ('STATA', 43),\n",
       " ('Weka', 43),\n",
       " ('SAP', 40),\n",
       " ('Jira', 38),\n",
       " ('Signal Processing', 38),\n",
       " ('GIS', 37),\n",
       " ('Network', 37),\n",
       " ('Apache', 37),\n",
       " ('JSON', 36),\n",
       " ('Alteryx', 34),\n",
       " ('Business Intelligence', 34),\n",
       " ('Experimental Design', 34),\n",
       " ('CSS', 31),\n",
       " ('Threading', 31),\n",
       " ('DB2', 30),\n",
       " ('QlikView', 30),\n",
       " ('Visual Basic', 28),\n",
       " ('CI', 27),\n",
       " ('REST', 26),\n",
       " ('Analysis Skills', 25),\n",
       " ('XML', 25),\n",
       " ('CI/CD', 25),\n",
       " ('SDLC', 24),\n",
       " ('Cloud Computing', 23),\n",
       " ('CompTIA Security+', 23),\n",
       " ('Confluence', 22),\n",
       " ('Military Experience', 21),\n",
       " ('Time Management', 20),\n",
       " ('Angular', 20),\n",
       " ('ArcGIS', 19),\n",
       " ('Kubernetes', 19),\n",
       " ('Business Analysis', 17),\n",
       " ('Lucene', 17),\n",
       " ('Node.js', 16),\n",
       " ('Unit Testing', 16),\n",
       " ('Troubleshooting', 14),\n",
       " ('Microsoft Word', 14),\n",
       " ('Red Hat Enterprise Linux', 14),\n",
       " ('Go', 14),\n",
       " ('Jenkins', 14),\n",
       " ('Microsoft Access', 13),\n",
       " ('Intelligence Experience', 13),\n",
       " ('DynamoDB', 12),\n",
       " ('Technical Writing', 12),\n",
       " ('Martech', 12),\n",
       " ('Minitab', 11),\n",
       " ('T-SQL', 11),\n",
       " ('Lean', 11),\n",
       " ('Digital Marketing', 11),\n",
       " ('Bioinformatics', 10),\n",
       " ('SVN', 10),\n",
       " ('Financial Modeling', 10),\n",
       " ('Operations Research', 10),\n",
       " ('SharePoint', 9),\n",
       " ('MCSD', 9),\n",
       " ('Customer Segmentation', 9),\n",
       " ('Redis', 9),\n",
       " ('Clojure', 9),\n",
       " ('React', 9),\n",
       " ('IIS', 8),\n",
       " ('PL/SQL', 8),\n",
       " ('Clinical Trials', 8),\n",
       " ('Quantitative Research', 8),\n",
       " ('Service-Oriented Architecture', 8),\n",
       " ('Facebook Advertising', 8),\n",
       " ('SaaS', 8),\n",
       " ('Attribution Modeling', 8),\n",
       " ('Maven', 8),\n",
       " ('CISSP', 8),\n",
       " ('Six Sigma Certification', 7),\n",
       " ('Google Analytics', 7),\n",
       " ('System Design', 7),\n",
       " ('Intelligence Community Experience', 7),\n",
       " ('Web Development', 7),\n",
       " ('Adobe Marketing', 7),\n",
       " ('Informatica', 7),\n",
       " ('DoD 8570', 7),\n",
       " ('Design Patterns', 7),\n",
       " ('Google AdWords', 7),\n",
       " ('Information Security', 6),\n",
       " ('Eclipse', 6),\n",
       " ('PMP', 6),\n",
       " ('Multichannel Marketing', 6),\n",
       " ('Supply Chain Experience', 6),\n",
       " ('Conversion Optimization', 6),\n",
       " ('NIST', 6),\n",
       " ('Teaching Experience', 6),\n",
       " ('Cybersecurity', 6),\n",
       " ('Next Generation Sequencing', 5),\n",
       " ('Salesforce CRM', 5),\n",
       " ('Marketing Automation', 5),\n",
       " ('Haskell', 5),\n",
       " ('Survival Analysis', 5),\n",
       " ('Software Testing', 5),\n",
       " ('TCP/IP', 5),\n",
       " ('TCP', 5),\n",
       " ('Supervising Experience', 5),\n",
       " ('Mac OS', 5),\n",
       " ('Distributed Control Systems', 5),\n",
       " ('Continuous Improvement', 5),\n",
       " ('Spring', 5),\n",
       " ('Survey Design', 5),\n",
       " ('Management Experience', 5),\n",
       " ('iOS', 5),\n",
       " ('VMWare', 5),\n",
       " ('IaaS', 5),\n",
       " ('\"Drivers License\"', 4),\n",
       " ('Qualitative Research', 4),\n",
       " ('Pentaho', 4),\n",
       " ('Customer Service', 4),\n",
       " ('Six Sigma', 4),\n",
       " ('Database Administration', 4),\n",
       " ('Microsoft Project', 4),\n",
       " ('Visio', 4),\n",
       " ('DNS', 4),\n",
       " ('Telecommunication', 4),\n",
       " ('SOAP', 4),\n",
       " ('4G/LTE', 4),\n",
       " ('Social Media Management', 4),\n",
       " ('Marketing Mix Modeling', 4),\n",
       " ('Embedded Software', 4),\n",
       " ('Ubuntu', 4),\n",
       " ('CentOS', 4),\n",
       " ('Bootstrap', 4),\n",
       " ('IT Experience', 4),\n",
       " ('CDISC Standards', 4),\n",
       " ('Crystal Reports', 4),\n",
       " ('Mesos', 4),\n",
       " ('Certified Internal Auditor', 3),\n",
       " ('CAD Software', 3),\n",
       " ('UI', 3),\n",
       " ('Google Suite', 3),\n",
       " ('SSL', 3),\n",
       " ('Visual Studio', 3),\n",
       " ('Strategic Planning', 3),\n",
       " ('Epic', 3),\n",
       " ('Windows', 3),\n",
       " ('Tomcat', 3),\n",
       " ('Adobe Photoshop', 3),\n",
       " ('Management Consulting', 3),\n",
       " ('Doubleclick', 3),\n",
       " ('GraphQL', 3),\n",
       " ('Qualtrics', 3),\n",
       " ('Database Marketing', 3),\n",
       " ('Omniture', 3),\n",
       " ('Clinical Research', 3),\n",
       " ('Test Automation', 3),\n",
       " ('Laboratory Experience', 3),\n",
       " ('FPGA', 3),\n",
       " ('Fortran', 3),\n",
       " ('Performance Marketing', 3),\n",
       " ('PaaS', 3),\n",
       " ('SPARQL', 3),\n",
       " ('Process Engineering', 3),\n",
       " ('HP ALM', 3),\n",
       " ('ADAS', 3),\n",
       " ('ACH', 2),\n",
       " ('RMF', 2),\n",
       " ('IAT', 2),\n",
       " ('FTP', 2),\n",
       " ('UX', 2),\n",
       " ('JBoss', 2),\n",
       " ('Kanban', 2),\n",
       " ('Adobe Creative Suite', 2),\n",
       " ('Quality Control', 2),\n",
       " ('PostGIS', 2),\n",
       " ('CAD', 2),\n",
       " ('Epic Certification', 2),\n",
       " ('Process Mapping', 2),\n",
       " ('Retail Link', 2),\n",
       " ('Salesforce Marketing Cloud', 2),\n",
       " ('ERP Systems', 2),\n",
       " ('HDI Certification', 2),\n",
       " ('NGINX', 2),\n",
       " ('Lean Manufacturing', 2),\n",
       " ('InVision', 2),\n",
       " ('SSH', 2),\n",
       " ('Lua', 2),\n",
       " ('Biostatistics', 2),\n",
       " ('OpenStack', 2),\n",
       " ('Change Management', 2),\n",
       " ('Project Leadership', 2),\n",
       " ('Technical Support', 2),\n",
       " ('Ember', 2),\n",
       " ('Aviation Experience', 2),\n",
       " ('Network Security', 2),\n",
       " ('Design Controls', 2),\n",
       " ('Quality Management', 2),\n",
       " ('Project Planning', 1),\n",
       " ('LMRT', 1),\n",
       " ('Grant Writing', 1),\n",
       " ('Pardot', 1),\n",
       " ('Cell Biology', 1),\n",
       " ('Immunoassays', 1),\n",
       " ('Managed Care', 1),\n",
       " ('Drupal', 1),\n",
       " ('Content Management Systems', 1),\n",
       " ('WordPress', 1),\n",
       " ('IDS', 1),\n",
       " ('IAT Level II', 1),\n",
       " ('Control-M', 1),\n",
       " ('iWork', 1),\n",
       " ('Android', 1),\n",
       " ('Audits', 1),\n",
       " ('Akka', 1),\n",
       " ('ZooKeeper', 1),\n",
       " ('ICD-10', 1),\n",
       " ('ICD-9', 1),\n",
       " ('Learning Technology', 1),\n",
       " ('Responsive Web Design', 1),\n",
       " ('Build Automation', 1),\n",
       " ('Accounting', 1),\n",
       " ('Medical Imaging', 1),\n",
       " ('Cash Flow Analysis', 1),\n",
       " ('Swift', 1),\n",
       " ('IAT Level I', 1),\n",
       " ('Email Marketing', 1),\n",
       " ('LAMP Stack', 1),\n",
       " ('Malware Analysis', 1),\n",
       " ('WebSphere', 1),\n",
       " ('NFS', 1),\n",
       " ('Sales Experience', 1),\n",
       " ('Adobe InDesign', 1),\n",
       " ('Rust', 1),\n",
       " ('New Relic', 1),\n",
       " ('Oracle EBS', 1),\n",
       " ('Genetics', 1),\n",
       " ('Project Engineering', 1),\n",
       " ('Chef', 1),\n",
       " ('Software Troubleshooting', 1),\n",
       " ('Agriculture', 1),\n",
       " ('Project Implementation', 1),\n",
       " ('Calculus', 1),\n",
       " ('CPA', 1),\n",
       " ('Certified Management Accountant', 1),\n",
       " ('Acquisition Strategy', 1),\n",
       " ('PCI', 1),\n",
       " ('FINRA License', 1),\n",
       " ('Internal Audits', 1),\n",
       " ('Certified Scrum Master', 1),\n",
       " ('Front-End Development', 1),\n",
       " ('SOX', 1),\n",
       " ('E-Commerce', 1),\n",
       " ('OBIEE', 1),\n",
       " ('Technical Project Management', 1),\n",
       " ('Business Process Reengineering', 1),\n",
       " ('XSLT', 1),\n",
       " ('Compliance Management', 1),\n",
       " ('Project Management Methodology', 1),\n",
       " ('CEH', 1),\n",
       " ('GSEC', 1),\n",
       " ('Hibernate', 1),\n",
       " ('Unity', 1),\n",
       " ('Identity And Access Management', 1),\n",
       " ('Selenium', 1),\n",
       " ('TestNG', 1),\n",
       " ('Firewall', 1),\n",
       " ('LDAP', 1),\n",
       " ('Active Directory', 1),\n",
       " ('Public Relations', 1),\n",
       " ('GAAP', 1)]"
      ]
     },
     "execution_count": 18,
     "metadata": {},
     "output_type": "execute_result"
    }
   ],
   "source": [
    "Counter(skills_list).most_common()"
   ]
  },
  {
   "cell_type": "code",
   "execution_count": null,
   "metadata": {},
   "outputs": [],
   "source": []
  }
 ],
 "metadata": {
  "kernelspec": {
   "display_name": "Python 3",
   "language": "python",
   "name": "python3"
  },
  "language_info": {
   "codemirror_mode": {
    "name": "ipython",
    "version": 3
   },
   "file_extension": ".py",
   "mimetype": "text/x-python",
   "name": "python",
   "nbconvert_exporter": "python",
   "pygments_lexer": "ipython3",
   "version": "3.6.11"
  }
 },
 "nbformat": 4,
 "nbformat_minor": 4
}
